{
 "cells": [
  {
   "cell_type": "code",
   "execution_count": 13,
   "metadata": {},
   "outputs": [],
   "source": [
    "import tensorflow as tf\n",
    "import numpy as np\n",
    "import matplotlib.pyplot as plt\n",
    "%matplotlib inline"
   ]
  },
  {
   "cell_type": "code",
   "execution_count": 14,
   "metadata": {},
   "outputs": [],
   "source": [
    "with np.load('./notMNIST.npz') as data :\n",
    "    Data, Target = data [\"images\"], data[\"labels\"]\n",
    "    np.random.seed(521)\n",
    "    randIndx = np.arange(len(Data))\n",
    "    np.random.shuffle(randIndx)\n",
    "    Data = Data[randIndx]/255.\n",
    "    Target = Target[randIndx]\n",
    "    trainData, trainTarget = Data[:15000], Target[:15000]\n",
    "    validData, validTarget = Data[15000:16000], Target[15000:16000]\n",
    "    testData, testTarget = Data[16000:], Target[16000:]"
   ]
  },
  {
   "cell_type": "code",
   "execution_count": 15,
   "metadata": {},
   "outputs": [],
   "source": [
    "trainZeros=np.zeros((15000, 10))\n",
    "trainZeros[np.arange(15000),trainTarget]=1\n",
    "trainTarget = trainZeros\n",
    "validZeros=np.zeros((1000, 10))\n",
    "validZeros[np.arange(1000),validTarget]=1\n",
    "validTarget = validZeros\n",
    "testZeros=np.zeros((2724, 10))\n",
    "testZeros[np.arange(2724),testTarget]=1\n",
    "testTarget = testZeros"
   ]
  },
  {
   "cell_type": "code",
   "execution_count": 16,
   "metadata": {},
   "outputs": [],
   "source": [
    "n_epochs = 1000\n",
    "batch_size = 500\n",
    "n_dim = 28*28"
   ]
  },
  {
   "cell_type": "code",
   "execution_count": 17,
   "metadata": {},
   "outputs": [],
   "source": [
    "def grab_batches(trainData, trainTarget, batch_size):\n",
    "    batch_indices = np.random.permutation(range(15000)).reshape(-1, batch_size)\n",
    "    X_batches = trainData.reshape(-1, n_dim)[batch_indices]\n",
    "    y_batches = trainTarget[batch_indices]\n",
    "    batches = zip(X_batches, y_batches)\n",
    "    return batches"
   ]
  },
  {
   "cell_type": "code",
   "execution_count": 18,
   "metadata": {},
   "outputs": [],
   "source": [
    "X = tf.placeholder(tf.float32,[None,n_dim])\n",
    "Y = tf.placeholder(tf.float32,[None,10])\n",
    "lr = tf.placeholder(tf.float32)"
   ]
  },
  {
   "cell_type": "code",
   "execution_count": 19,
   "metadata": {},
   "outputs": [],
   "source": [
    "def hidden_layer(X, hidden_units):\n",
    "    x_dimension = X.shape[1].value\n",
    "    initializer = tf.contrib.layers.xavier_initializer(uniform=False)\n",
    "    hidden_weights = tf.Variable(initializer([x_dimension, hidden_units]), name='weights')\n",
    "    hidden_biases = tf.Variable(tf.zeros(hidden_units), name='biases')\n",
    "    \n",
    "    return tf.add(tf.matmul(X, hidden_weights), hidden_biases)"
   ]
  },
  {
   "cell_type": "code",
   "execution_count": 20,
   "metadata": {},
   "outputs": [],
   "source": [
    "y_ = hidden_layer(X,1000)\n",
    "y_ = hidden_layer(tf.nn.relu(y_),10)\n",
    "\n",
    "loss = tf.reduce_mean(tf.nn.softmax_cross_entropy_with_logits(labels=Y, logits=y_))\n",
    "#regularizer = tf.nn.l2_loss(W)\n",
    "#loss = tf.reduce_mean(loss + weight_decay * regularizer)\n",
    "\n",
    "prediction = tf.cast(tf.round(tf.argmax(y_,1)), tf.int8)\n",
    "equality = tf.equal(prediction, tf.cast(tf.argmax(Y,1), tf.int8))\n",
    "accuracy = tf.reduce_mean(tf.cast(equality, tf.float32))\n",
    "\n",
    "training_step = tf.train.AdamOptimizer(lr).minimize(loss)\n",
    "init = tf.global_variables_initializer()\n",
    "saver = tf.train.Saver()"
   ]
  },
  {
   "cell_type": "code",
   "execution_count": 21,
   "metadata": {},
   "outputs": [],
   "source": [
    "learning_rates = 10**np.random.uniform(low=-5, high=-1, size=8)\n",
    "valid_metrics = {'loss': [], 'accuracy': []}\n",
    "train_metrics = {'loss': [], 'accuracy': []}\n",
    "test_metrics = {'loss': [], 'accuracy': []}"
   ]
  },
  {
   "cell_type": "code",
   "execution_count": 22,
   "metadata": {},
   "outputs": [
    {
     "name": "stdout",
     "output_type": "stream",
     "text": [
      "Learning Rate: 0.002729584918752247 \n",
      "\n",
      "Epoch: 1, Loss: 0.39875808358192444, Accuracy: 0.8880000114440918\n"
     ]
    },
    {
     "ename": "NameError",
     "evalue": "name 'valid_accyract' is not defined",
     "output_type": "error",
     "traceback": [
      "\u001b[0;31m---------------------------------------------------------------------------\u001b[0m",
      "\u001b[0;31mNameError\u001b[0m                                 Traceback (most recent call last)",
      "\u001b[0;32m<ipython-input-22-42516f03eac7>\u001b[0m in \u001b[0;36m<module>\u001b[0;34m()\u001b[0m\n\u001b[1;32m     23\u001b[0m             \u001b[0;32mif\u001b[0m \u001b[0mvalid_accuracy\u001b[0m \u001b[0;34m>\u001b[0m \u001b[0mbest_accuracy\u001b[0m\u001b[0;34m:\u001b[0m\u001b[0;34m\u001b[0m\u001b[0m\n\u001b[1;32m     24\u001b[0m                 \u001b[0mbest_epoch\u001b[0m\u001b[0;34m[\u001b[0m\u001b[0;34m'accuracy'\u001b[0m\u001b[0;34m]\u001b[0m \u001b[0;34m=\u001b[0m \u001b[0mepoch\u001b[0m\u001b[0;34m\u001b[0m\u001b[0m\n\u001b[0;32m---> 25\u001b[0;31m                 \u001b[0mbest_accuracy\u001b[0m \u001b[0;34m=\u001b[0m \u001b[0mvalid_accyract\u001b[0m\u001b[0;34m\u001b[0m\u001b[0m\n\u001b[0m\u001b[1;32m     26\u001b[0m \u001b[0;34m\u001b[0m\u001b[0m\n\u001b[1;32m     27\u001b[0m             \u001b[0;32mif\u001b[0m \u001b[0mepoch\u001b[0m\u001b[0;34m%\u001b[0m\u001b[0;36m5\u001b[0m \u001b[0;34m==\u001b[0m \u001b[0;36m0\u001b[0m\u001b[0;34m:\u001b[0m\u001b[0;34m\u001b[0m\u001b[0m\n",
      "\u001b[0;31mNameError\u001b[0m: name 'valid_accyract' is not defined"
     ]
    }
   ],
   "source": [
    "best_epoch = {'loss': 0, 'accuracy': 0}\n",
    "best_loss = float('inf')\n",
    "best_accuracy = 0\n",
    "with tf.Session() as sess:\n",
    "    for learning_rate in learning_rates:\n",
    "        sess.run(init)\n",
    "        print(\"Learning Rate: {} \\n\".format(learning_rate))\n",
    "        for epoch in range(1,n_epochs+1):\n",
    "            batches = grab_batches(trainData, trainTarget, batch_size)\n",
    "            for X_batch, y_batch in batches:\n",
    "                sess.run(training_step, feed_dict={X: X_batch, Y: y_batch, lr: learning_rate})\n",
    "\n",
    "            train_loss, train_accuracy = sess.run([loss, accuracy], {X: trainData.reshape(-1,n_dim), Y: trainTarget})\n",
    "            valid_loss, valid_accuracy = sess.run([loss, accuracy], {X: validData.reshape(-1,n_dim), Y: validTarget})\n",
    "            test_loss, test_accuracy = sess.run([loss, accuracy], {X: testData.reshape(-1,n_dim), Y: testTarget})\n",
    "            \n",
    "            print(\"Epoch: {}, Loss: {}, Accuracy: {}\".format(epoch, train_loss, train_accuracy))\n",
    "            \n",
    "            if valid_loss < best_loss:\n",
    "                best_epoch['loss'] = epoch\n",
    "                best_loss = valid_loss\n",
    "            \n",
    "            if valid_accuracy > best_accuracy:\n",
    "                best_epoch['accuracy'] = epoch\n",
    "                best_accuracy = valid_accyr\n",
    "            \n",
    "            if epoch%5 == 0:\n",
    "                print(\"Best Epoch: {}, Best Loss: {}, Best Accuracy: {} \\n\".format(best_epoch, best_loss, best_accuracy))\n",
    "                \n",
    "            train_metrics['loss'].append(train_loss)\n",
    "            train_metrics['accuracy'].append(train_accuracy)\n",
    "            valid_metrics['loss'].append(valid_loss)\n",
    "            valid_metrics['accuracy'].append(valid_accuracy)\n",
    "            test_metrics['loss'].append(test_loss)\n",
    "            test_metrics['accuracy'].append(test_accuracy)\n"
   ]
  },
  {
   "cell_type": "code",
   "execution_count": null,
   "metadata": {
    "collapsed": true
   },
   "outputs": [],
   "source": []
  }
 ],
 "metadata": {
  "kernelspec": {
   "display_name": "Python 3",
   "language": "python",
   "name": "python3"
  },
  "language_info": {
   "codemirror_mode": {
    "name": "ipython",
    "version": 3
   },
   "file_extension": ".py",
   "mimetype": "text/x-python",
   "name": "python",
   "nbconvert_exporter": "python",
   "pygments_lexer": "ipython3",
   "version": "3.6.4"
  }
 },
 "nbformat": 4,
 "nbformat_minor": 2
}
