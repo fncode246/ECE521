{
 "cells": [
  {
   "cell_type": "code",
   "execution_count": 1,
   "metadata": {},
   "outputs": [],
   "source": [
    "import tensorflow as tf\n",
    "import numpy as np\n",
    "import matplotlib.pyplot as plt\n",
    "%matplotlib inline"
   ]
  },
  {
   "cell_type": "code",
   "execution_count": 2,
   "metadata": {},
   "outputs": [],
   "source": [
    "with np.load('./notMNIST.npz') as data :\n",
    "    Data, Target = data [\"images\"], data[\"labels\"]\n",
    "    np.random.seed(521)\n",
    "    randIndx = np.arange(len(Data))\n",
    "    np.random.shuffle(randIndx)\n",
    "    Data = Data[randIndx]/255.\n",
    "    Target = Target[randIndx]\n",
    "    trainData, trainTarget = Data[:15000], Target[:15000]\n",
    "    validData, validTarget = Data[15000:16000], Target[15000:16000]\n",
    "    testData, testTarget = Data[16000:], Target[16000:]"
   ]
  },
  {
   "cell_type": "code",
   "execution_count": 3,
   "metadata": {
    "collapsed": true
   },
   "outputs": [],
   "source": [
    "trainZeros=np.zeros((15000, 10))\n",
    "trainZeros[np.arange(15000),trainTarget]=1\n",
    "trainTarget = trainZeros\n",
    "validZeros=np.zeros((1000, 10))\n",
    "validZeros[np.arange(1000),validTarget]=1\n",
    "validTarget = validZeros\n",
    "testZeros=np.zeros((2724, 10))\n",
    "testZeros[np.arange(2724),testTarget]=1\n",
    "testTarget = testZeros"
   ]
  },
  {
   "cell_type": "code",
   "execution_count": 14,
   "metadata": {},
   "outputs": [
    {
     "name": "stdout",
     "output_type": "stream",
     "text": [
      "Learning Rate: 0.0024606117272511774 Number Layers: 5 Hidden Units: 371 Weight Decay: 0.0036402635633598934 No Dropout [0]\n"
     ]
    }
   ],
   "source": [
    "#Hyperparameters to chnage\n",
    "\n",
    "np.random.seed(seed=60749150)\n",
    "\n",
    "learning_rate = np.asscalar(np.exp(np.random.uniform(low=-7.5, high=-4.5, size=1)))\n",
    "\n",
    "num_layers = int(np.random.randint(1,6,1))\n",
    "\n",
    "hidden_units = int(np.random.randint(100,500,1))\n",
    "\n",
    "weight_decay = np.asscalar(np.exp(np.random.uniform(low=-7.5, high=-4.5, size=1)))\n",
    "\n",
    "#0 no dropout, 1 dropout\n",
    "\n",
    "dropout = np.random.randint(0,2,1)\n",
    "\n",
    "print('Learning Rate:',learning_rate,'Number Layers:',num_layers,'Hidden Units:', hidden_units,'Weight Decay:',weight_decay,\\\n",
    "      'No Dropout',dropout)\n",
    "\n",
    "n_epochs = 5000\n",
    "batch_size = 500\n",
    "n_dim = 28*28"
   ]
  },
  {
   "cell_type": "code",
   "execution_count": 5,
   "metadata": {
    "collapsed": true
   },
   "outputs": [],
   "source": [
    "def grab_batches(trainData, trainTarget, batch_size):\n",
    "    batch_indices = np.random.permutation(range(15000)).reshape(-1, batch_size)\n",
    "    X_batches = trainData.reshape(-1, n_dim)[batch_indices]\n",
    "    y_batches = trainTarget[batch_indices]\n",
    "    batches = zip(X_batches, y_batches)\n",
    "    return batches"
   ]
  },
  {
   "cell_type": "code",
   "execution_count": 6,
   "metadata": {
    "collapsed": true
   },
   "outputs": [],
   "source": [
    "X = tf.placeholder(tf.float32,[None,n_dim])\n",
    "Y = tf.placeholder(tf.float32,[None,10])"
   ]
  },
  {
   "cell_type": "code",
   "execution_count": 19,
   "metadata": {
    "collapsed": true
   },
   "outputs": [],
   "source": [
    "def hidden_layer(X, hidden_units, dropout=True, activation=True):\n",
    "    x_dimension = X.shape[1].value\n",
    "    initializer = tf.contrib.layers.xavier_initializer(uniform=False)\n",
    "    hidden_weights = tf.Variable(initializer([x_dimension, hidden_units]), name='weights')\n",
    "    hidden_biases = tf.Variable(tf.zeros(hidden_units), name='biases')\n",
    "    output = tf.add(tf.matmul(X, hidden_weights), hidden_biases)\n",
    "    activations = tf.nn.relu(output) if activation else output\n",
    "    activations = tf.nn.dropout(activations, keep_prob=0.5) if dropout else activations\n",
    "    return activations, hidden_weights"
   ]
  },
  {
   "cell_type": "code",
   "execution_count": 22,
   "metadata": {},
   "outputs": [],
   "source": [
    "from tensorflow.contrib.keras import models\n",
    "Ws = []\n",
    "y_, W = hidden_layer(X, hidden_units, dropout)\n",
    "Ws.append(W)\n",
    "for _ in range(num_layers-1):\n",
    "    y_, W = hidden_layer(y_, hidden_units, dropout)\n",
    "    Ws.append(W)\n",
    "y_, W = hidden_layer(y_, 10, dropout=False, activation=False)\n",
    "\n",
    "loss = tf.reduce_mean(tf.nn.softmax_cross_entropy_with_logits(labels=Y, logits=y_))\n",
    "regularizer = 0\n",
    "for W in Ws:\n",
    "    regularizer += tf.nn.l2_loss(W)\n",
    "    \n",
    "loss = tf.reduce_mean(loss + weight_decay * regularizer)\n",
    "\n",
    "prediction = tf.cast(tf.round(tf.argmax(y_,1)), tf.int8)\n",
    "equality = tf.equal(prediction, tf.cast(tf.argmax(Y,1), tf.int8))\n",
    "accuracy = tf.reduce_mean(tf.cast(equality, tf.float32))\n",
    "\n",
    "training_step = tf.train.AdamOptimizer(learning_rate).minimize(loss)\n",
    "init = tf.global_variables_initializer()"
   ]
  },
  {
   "cell_type": "code",
   "execution_count": 23,
   "metadata": {
    "collapsed": true
   },
   "outputs": [],
   "source": [
    "def plot_metrics(learning_rate):\n",
    "    for metric in ['loss', 'accuracy']:\n",
    "        plt.figure(figsize=(12,9))\n",
    "        plt.title('{} vs. num. of epochs for learning rate of {:.5}'.format(metric, learning_rate))\n",
    "        for dataset in ['train', 'test', 'valid']:\n",
    "            plt.plot(range(1, epoch+1), metrics[dataset][metric], label=dataset)\n",
    "        plt.axvline(x=best_epoch[metric], linewidth=1, linestyle='dashed', color='k', label='early stopping')\n",
    "        plt.legend()\n",
    "        plt.savefig('figures/lr_{:.8}_{}.png'.format(learning_rate, metric), dpi=300, bbox_inches='tight')"
   ]
  },
  {
   "cell_type": "code",
   "execution_count": 25,
   "metadata": {},
   "outputs": [
    {
     "name": "stdout",
     "output_type": "stream",
     "text": [
      "Learning Rate: 0.0024606117272511774 \n",
      "\n",
      "Epoch: 10, Train Loss: 0.5156, Train Accuracy: 0.9381\n",
      "Best Epoch: {'accuracy': 7, 'loss': 10}, Best Valid Loss: 0.5785, Best Valid Accuracy: 0.915 \n",
      "\n"
     ]
    },
    {
     "ename": "KeyboardInterrupt",
     "evalue": "",
     "output_type": "error",
     "traceback": [
      "\u001b[0;31m---------------------------------------------------------------------------\u001b[0m",
      "\u001b[0;31mKeyboardInterrupt\u001b[0m                         Traceback (most recent call last)",
      "\u001b[0;32m<ipython-input-25-3b8ba90ac670>\u001b[0m in \u001b[0;36m<module>\u001b[0;34m()\u001b[0m\n\u001b[1;32m     15\u001b[0m         \u001b[0mbatches\u001b[0m \u001b[0;34m=\u001b[0m \u001b[0mgrab_batches\u001b[0m\u001b[0;34m(\u001b[0m\u001b[0mtrainData\u001b[0m\u001b[0;34m,\u001b[0m \u001b[0mtrainTarget\u001b[0m\u001b[0;34m,\u001b[0m \u001b[0mbatch_size\u001b[0m\u001b[0;34m)\u001b[0m\u001b[0;34m\u001b[0m\u001b[0m\n\u001b[1;32m     16\u001b[0m         \u001b[0;32mfor\u001b[0m \u001b[0mX_batch\u001b[0m\u001b[0;34m,\u001b[0m \u001b[0my_batch\u001b[0m \u001b[0;32min\u001b[0m \u001b[0mbatches\u001b[0m\u001b[0;34m:\u001b[0m\u001b[0;34m\u001b[0m\u001b[0m\n\u001b[0;32m---> 17\u001b[0;31m             \u001b[0msess\u001b[0m\u001b[0;34m.\u001b[0m\u001b[0mrun\u001b[0m\u001b[0;34m(\u001b[0m\u001b[0mtraining_step\u001b[0m\u001b[0;34m,\u001b[0m \u001b[0mfeed_dict\u001b[0m\u001b[0;34m=\u001b[0m\u001b[0;34m{\u001b[0m\u001b[0mX\u001b[0m\u001b[0;34m:\u001b[0m \u001b[0mX_batch\u001b[0m\u001b[0;34m,\u001b[0m \u001b[0mY\u001b[0m\u001b[0;34m:\u001b[0m \u001b[0my_batch\u001b[0m\u001b[0;34m}\u001b[0m\u001b[0;34m)\u001b[0m\u001b[0;34m\u001b[0m\u001b[0m\n\u001b[0m\u001b[1;32m     18\u001b[0m \u001b[0;34m\u001b[0m\u001b[0m\n\u001b[1;32m     19\u001b[0m         \u001b[0mtrain_loss\u001b[0m\u001b[0;34m,\u001b[0m \u001b[0mtrain_accuracy\u001b[0m \u001b[0;34m=\u001b[0m \u001b[0msess\u001b[0m\u001b[0;34m.\u001b[0m\u001b[0mrun\u001b[0m\u001b[0;34m(\u001b[0m\u001b[0;34m[\u001b[0m\u001b[0mloss\u001b[0m\u001b[0;34m,\u001b[0m \u001b[0maccuracy\u001b[0m\u001b[0;34m]\u001b[0m\u001b[0;34m,\u001b[0m \u001b[0;34m{\u001b[0m\u001b[0mX\u001b[0m\u001b[0;34m:\u001b[0m \u001b[0mtrainData\u001b[0m\u001b[0;34m.\u001b[0m\u001b[0mreshape\u001b[0m\u001b[0;34m(\u001b[0m\u001b[0;34m-\u001b[0m\u001b[0;36m1\u001b[0m\u001b[0;34m,\u001b[0m\u001b[0mn_dim\u001b[0m\u001b[0;34m)\u001b[0m\u001b[0;34m,\u001b[0m \u001b[0mY\u001b[0m\u001b[0;34m:\u001b[0m \u001b[0mtrainTarget\u001b[0m\u001b[0;34m}\u001b[0m\u001b[0;34m)\u001b[0m\u001b[0;34m\u001b[0m\u001b[0m\n",
      "\u001b[0;32m/anaconda3/envs/tfdeeplearning/lib/python3.5/site-packages/tensorflow/python/client/session.py\u001b[0m in \u001b[0;36mrun\u001b[0;34m(self, fetches, feed_dict, options, run_metadata)\u001b[0m\n\u001b[1;32m    887\u001b[0m     \u001b[0;32mtry\u001b[0m\u001b[0;34m:\u001b[0m\u001b[0;34m\u001b[0m\u001b[0m\n\u001b[1;32m    888\u001b[0m       result = self._run(None, fetches, feed_dict, options_ptr,\n\u001b[0;32m--> 889\u001b[0;31m                          run_metadata_ptr)\n\u001b[0m\u001b[1;32m    890\u001b[0m       \u001b[0;32mif\u001b[0m \u001b[0mrun_metadata\u001b[0m\u001b[0;34m:\u001b[0m\u001b[0;34m\u001b[0m\u001b[0m\n\u001b[1;32m    891\u001b[0m         \u001b[0mproto_data\u001b[0m \u001b[0;34m=\u001b[0m \u001b[0mtf_session\u001b[0m\u001b[0;34m.\u001b[0m\u001b[0mTF_GetBuffer\u001b[0m\u001b[0;34m(\u001b[0m\u001b[0mrun_metadata_ptr\u001b[0m\u001b[0;34m)\u001b[0m\u001b[0;34m\u001b[0m\u001b[0m\n",
      "\u001b[0;32m/anaconda3/envs/tfdeeplearning/lib/python3.5/site-packages/tensorflow/python/client/session.py\u001b[0m in \u001b[0;36m_run\u001b[0;34m(self, handle, fetches, feed_dict, options, run_metadata)\u001b[0m\n\u001b[1;32m   1118\u001b[0m     \u001b[0;32mif\u001b[0m \u001b[0mfinal_fetches\u001b[0m \u001b[0;32mor\u001b[0m \u001b[0mfinal_targets\u001b[0m \u001b[0;32mor\u001b[0m \u001b[0;34m(\u001b[0m\u001b[0mhandle\u001b[0m \u001b[0;32mand\u001b[0m \u001b[0mfeed_dict_tensor\u001b[0m\u001b[0;34m)\u001b[0m\u001b[0;34m:\u001b[0m\u001b[0;34m\u001b[0m\u001b[0m\n\u001b[1;32m   1119\u001b[0m       results = self._do_run(handle, final_targets, final_fetches,\n\u001b[0;32m-> 1120\u001b[0;31m                              feed_dict_tensor, options, run_metadata)\n\u001b[0m\u001b[1;32m   1121\u001b[0m     \u001b[0;32melse\u001b[0m\u001b[0;34m:\u001b[0m\u001b[0;34m\u001b[0m\u001b[0m\n\u001b[1;32m   1122\u001b[0m       \u001b[0mresults\u001b[0m \u001b[0;34m=\u001b[0m \u001b[0;34m[\u001b[0m\u001b[0;34m]\u001b[0m\u001b[0;34m\u001b[0m\u001b[0m\n",
      "\u001b[0;32m/anaconda3/envs/tfdeeplearning/lib/python3.5/site-packages/tensorflow/python/client/session.py\u001b[0m in \u001b[0;36m_do_run\u001b[0;34m(self, handle, target_list, fetch_list, feed_dict, options, run_metadata)\u001b[0m\n\u001b[1;32m   1315\u001b[0m     \u001b[0;32mif\u001b[0m \u001b[0mhandle\u001b[0m \u001b[0;32mis\u001b[0m \u001b[0;32mNone\u001b[0m\u001b[0;34m:\u001b[0m\u001b[0;34m\u001b[0m\u001b[0m\n\u001b[1;32m   1316\u001b[0m       return self._do_call(_run_fn, self._session, feeds, fetches, targets,\n\u001b[0;32m-> 1317\u001b[0;31m                            options, run_metadata)\n\u001b[0m\u001b[1;32m   1318\u001b[0m     \u001b[0;32melse\u001b[0m\u001b[0;34m:\u001b[0m\u001b[0;34m\u001b[0m\u001b[0m\n\u001b[1;32m   1319\u001b[0m       \u001b[0;32mreturn\u001b[0m \u001b[0mself\u001b[0m\u001b[0;34m.\u001b[0m\u001b[0m_do_call\u001b[0m\u001b[0;34m(\u001b[0m\u001b[0m_prun_fn\u001b[0m\u001b[0;34m,\u001b[0m \u001b[0mself\u001b[0m\u001b[0;34m.\u001b[0m\u001b[0m_session\u001b[0m\u001b[0;34m,\u001b[0m \u001b[0mhandle\u001b[0m\u001b[0;34m,\u001b[0m \u001b[0mfeeds\u001b[0m\u001b[0;34m,\u001b[0m \u001b[0mfetches\u001b[0m\u001b[0;34m)\u001b[0m\u001b[0;34m\u001b[0m\u001b[0m\n",
      "\u001b[0;32m/anaconda3/envs/tfdeeplearning/lib/python3.5/site-packages/tensorflow/python/client/session.py\u001b[0m in \u001b[0;36m_do_call\u001b[0;34m(self, fn, *args)\u001b[0m\n\u001b[1;32m   1321\u001b[0m   \u001b[0;32mdef\u001b[0m \u001b[0m_do_call\u001b[0m\u001b[0;34m(\u001b[0m\u001b[0mself\u001b[0m\u001b[0;34m,\u001b[0m \u001b[0mfn\u001b[0m\u001b[0;34m,\u001b[0m \u001b[0;34m*\u001b[0m\u001b[0margs\u001b[0m\u001b[0;34m)\u001b[0m\u001b[0;34m:\u001b[0m\u001b[0;34m\u001b[0m\u001b[0m\n\u001b[1;32m   1322\u001b[0m     \u001b[0;32mtry\u001b[0m\u001b[0;34m:\u001b[0m\u001b[0;34m\u001b[0m\u001b[0m\n\u001b[0;32m-> 1323\u001b[0;31m       \u001b[0;32mreturn\u001b[0m \u001b[0mfn\u001b[0m\u001b[0;34m(\u001b[0m\u001b[0;34m*\u001b[0m\u001b[0margs\u001b[0m\u001b[0;34m)\u001b[0m\u001b[0;34m\u001b[0m\u001b[0m\n\u001b[0m\u001b[1;32m   1324\u001b[0m     \u001b[0;32mexcept\u001b[0m \u001b[0merrors\u001b[0m\u001b[0;34m.\u001b[0m\u001b[0mOpError\u001b[0m \u001b[0;32mas\u001b[0m \u001b[0me\u001b[0m\u001b[0;34m:\u001b[0m\u001b[0;34m\u001b[0m\u001b[0m\n\u001b[1;32m   1325\u001b[0m       \u001b[0mmessage\u001b[0m \u001b[0;34m=\u001b[0m \u001b[0mcompat\u001b[0m\u001b[0;34m.\u001b[0m\u001b[0mas_text\u001b[0m\u001b[0;34m(\u001b[0m\u001b[0me\u001b[0m\u001b[0;34m.\u001b[0m\u001b[0mmessage\u001b[0m\u001b[0;34m)\u001b[0m\u001b[0;34m\u001b[0m\u001b[0m\n",
      "\u001b[0;32m/anaconda3/envs/tfdeeplearning/lib/python3.5/site-packages/tensorflow/python/client/session.py\u001b[0m in \u001b[0;36m_run_fn\u001b[0;34m(session, feed_dict, fetch_list, target_list, options, run_metadata)\u001b[0m\n\u001b[1;32m   1300\u001b[0m           return tf_session.TF_Run(session, options,\n\u001b[1;32m   1301\u001b[0m                                    \u001b[0mfeed_dict\u001b[0m\u001b[0;34m,\u001b[0m \u001b[0mfetch_list\u001b[0m\u001b[0;34m,\u001b[0m \u001b[0mtarget_list\u001b[0m\u001b[0;34m,\u001b[0m\u001b[0;34m\u001b[0m\u001b[0m\n\u001b[0;32m-> 1302\u001b[0;31m                                    status, run_metadata)\n\u001b[0m\u001b[1;32m   1303\u001b[0m \u001b[0;34m\u001b[0m\u001b[0m\n\u001b[1;32m   1304\u001b[0m     \u001b[0;32mdef\u001b[0m \u001b[0m_prun_fn\u001b[0m\u001b[0;34m(\u001b[0m\u001b[0msession\u001b[0m\u001b[0;34m,\u001b[0m \u001b[0mhandle\u001b[0m\u001b[0;34m,\u001b[0m \u001b[0mfeed_dict\u001b[0m\u001b[0;34m,\u001b[0m \u001b[0mfetch_list\u001b[0m\u001b[0;34m)\u001b[0m\u001b[0;34m:\u001b[0m\u001b[0;34m\u001b[0m\u001b[0m\n",
      "\u001b[0;31mKeyboardInterrupt\u001b[0m: "
     ]
    }
   ],
   "source": [
    "with tf.Session() as sess:\n",
    "    sess.run(init)\n",
    "    valid_metrics = {'loss': [], 'accuracy': []}\n",
    "    train_metrics = {'loss': [], 'accuracy': []}\n",
    "    test_metrics = {'loss': [], 'accuracy': []}\n",
    "    metrics = {'train': train_metrics, 'valid': valid_metrics, 'test': test_metrics}\n",
    "\n",
    "    best_epoch = {'loss': 0, 'accuracy': 0}\n",
    "    best_loss = float('inf')\n",
    "    best_accuracy = 0\n",
    "    epochs_since_best = 0\n",
    "\n",
    "    print(\"Learning Rate: {} \\n\".format(learning_rate))\n",
    "    for epoch in range(1,n_epochs+1):\n",
    "        batches = grab_batches(trainData, trainTarget, batch_size)\n",
    "        for X_batch, y_batch in batches:\n",
    "            sess.run(training_step, feed_dict={X: X_batch, Y: y_batch})\n",
    "\n",
    "        train_loss, train_accuracy = sess.run([loss, accuracy], {X: trainData.reshape(-1,n_dim), Y: trainTarget})\n",
    "        valid_loss, valid_accuracy = sess.run([loss, accuracy], {X: validData.reshape(-1,n_dim), Y: validTarget})\n",
    "        test_loss, test_accuracy = sess.run([loss, accuracy], {X: testData.reshape(-1,n_dim), Y: testTarget})\n",
    "\n",
    "\n",
    "\n",
    "        if valid_loss < best_loss:\n",
    "            best_epoch['loss'] = epoch\n",
    "            best_loss = valid_loss\n",
    "\n",
    "        if valid_accuracy > best_accuracy:\n",
    "            best_epoch['accuracy'] = epoch\n",
    "            best_accuracy = valid_accuracy\n",
    "            epochs_since_best = 0\n",
    "        else:\n",
    "            epochs_since_best += 1\n",
    "\n",
    "        if epoch%10 == 0:\n",
    "            print(\"Epoch: {}, Train Loss: {:.4}, Train Accuracy: {:.4}\".format(epoch, train_loss, train_accuracy))\n",
    "            print(\"Best Epoch: {}, Best Valid Loss: {:.4}, Best Valid Accuracy: {:.4} \\n\".format(best_epoch, best_loss, best_accuracy))\n",
    "\n",
    "        metrics['train']['loss'].append(train_loss)\n",
    "        metrics['train']['accuracy'].append(train_accuracy)\n",
    "        metrics['valid']['loss'].append(valid_loss)\n",
    "        metrics['valid']['accuracy'].append(valid_accuracy)\n",
    "        metrics['test']['loss'].append(test_loss)\n",
    "        metrics['test']['accuracy'].append(test_accuracy)\n",
    "\n",
    "        if epoch < 20 and epochs_since_best > 15:\n",
    "            print(\"Learning rate too high\")\n",
    "            break\n",
    "    plot_metrics(learning_rate)\n",
    "\n"
   ]
  }
 ],
 "metadata": {
  "kernelspec": {
   "display_name": "Python 3",
   "language": "python",
   "name": "python3"
  },
  "language_info": {
   "codemirror_mode": {
    "name": "ipython",
    "version": 3
   },
   "file_extension": ".py",
   "mimetype": "text/x-python",
   "name": "python",
   "nbconvert_exporter": "python",
   "pygments_lexer": "ipython3",
   "version": "3.5.4"
  }
 },
 "nbformat": 4,
 "nbformat_minor": 2
}
